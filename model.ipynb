{
 "cells": [
  {
   "cell_type": "code",
   "execution_count": 15,
   "metadata": {},
   "outputs": [],
   "source": [
    "from neuralnetwork import *\n",
    "import pandas as pd\n",
    "from sklearn.model_selection import train_test_split"
   ]
  },
  {
   "cell_type": "code",
   "execution_count": 16,
   "metadata": {},
   "outputs": [
    {
     "data": {
      "text/html": [
       "<div>\n",
       "<style scoped>\n",
       "    .dataframe tbody tr th:only-of-type {\n",
       "        vertical-align: middle;\n",
       "    }\n",
       "\n",
       "    .dataframe tbody tr th {\n",
       "        vertical-align: top;\n",
       "    }\n",
       "\n",
       "    .dataframe thead th {\n",
       "        text-align: right;\n",
       "    }\n",
       "</style>\n",
       "<table border=\"1\" class=\"dataframe\">\n",
       "  <thead>\n",
       "    <tr style=\"text-align: right;\">\n",
       "      <th></th>\n",
       "      <th>Clump Thickness</th>\n",
       "      <th>Uniformity of Cell Size</th>\n",
       "      <th>Uniformity of Cell Shape</th>\n",
       "      <th>Marginal Adhesion</th>\n",
       "      <th>Single Epithelial Cell Size</th>\n",
       "      <th>Bare Nuclei</th>\n",
       "      <th>Bland Chromatin</th>\n",
       "      <th>Normal Nucleoli</th>\n",
       "      <th>Mitoses</th>\n",
       "      <th>Class</th>\n",
       "    </tr>\n",
       "  </thead>\n",
       "  <tbody>\n",
       "    <tr>\n",
       "      <th>0</th>\n",
       "      <td>5</td>\n",
       "      <td>1</td>\n",
       "      <td>1</td>\n",
       "      <td>1</td>\n",
       "      <td>2</td>\n",
       "      <td>1</td>\n",
       "      <td>3</td>\n",
       "      <td>1</td>\n",
       "      <td>1</td>\n",
       "      <td>2</td>\n",
       "    </tr>\n",
       "    <tr>\n",
       "      <th>1</th>\n",
       "      <td>5</td>\n",
       "      <td>4</td>\n",
       "      <td>4</td>\n",
       "      <td>5</td>\n",
       "      <td>7</td>\n",
       "      <td>10</td>\n",
       "      <td>3</td>\n",
       "      <td>2</td>\n",
       "      <td>1</td>\n",
       "      <td>2</td>\n",
       "    </tr>\n",
       "    <tr>\n",
       "      <th>2</th>\n",
       "      <td>3</td>\n",
       "      <td>1</td>\n",
       "      <td>1</td>\n",
       "      <td>1</td>\n",
       "      <td>2</td>\n",
       "      <td>2</td>\n",
       "      <td>3</td>\n",
       "      <td>1</td>\n",
       "      <td>1</td>\n",
       "      <td>2</td>\n",
       "    </tr>\n",
       "    <tr>\n",
       "      <th>3</th>\n",
       "      <td>6</td>\n",
       "      <td>8</td>\n",
       "      <td>8</td>\n",
       "      <td>1</td>\n",
       "      <td>3</td>\n",
       "      <td>4</td>\n",
       "      <td>3</td>\n",
       "      <td>7</td>\n",
       "      <td>1</td>\n",
       "      <td>2</td>\n",
       "    </tr>\n",
       "    <tr>\n",
       "      <th>4</th>\n",
       "      <td>4</td>\n",
       "      <td>1</td>\n",
       "      <td>1</td>\n",
       "      <td>3</td>\n",
       "      <td>2</td>\n",
       "      <td>1</td>\n",
       "      <td>3</td>\n",
       "      <td>1</td>\n",
       "      <td>1</td>\n",
       "      <td>2</td>\n",
       "    </tr>\n",
       "    <tr>\n",
       "      <th>...</th>\n",
       "      <td>...</td>\n",
       "      <td>...</td>\n",
       "      <td>...</td>\n",
       "      <td>...</td>\n",
       "      <td>...</td>\n",
       "      <td>...</td>\n",
       "      <td>...</td>\n",
       "      <td>...</td>\n",
       "      <td>...</td>\n",
       "      <td>...</td>\n",
       "    </tr>\n",
       "    <tr>\n",
       "      <th>678</th>\n",
       "      <td>3</td>\n",
       "      <td>1</td>\n",
       "      <td>1</td>\n",
       "      <td>1</td>\n",
       "      <td>3</td>\n",
       "      <td>2</td>\n",
       "      <td>1</td>\n",
       "      <td>1</td>\n",
       "      <td>1</td>\n",
       "      <td>2</td>\n",
       "    </tr>\n",
       "    <tr>\n",
       "      <th>679</th>\n",
       "      <td>2</td>\n",
       "      <td>1</td>\n",
       "      <td>1</td>\n",
       "      <td>1</td>\n",
       "      <td>2</td>\n",
       "      <td>1</td>\n",
       "      <td>1</td>\n",
       "      <td>1</td>\n",
       "      <td>1</td>\n",
       "      <td>2</td>\n",
       "    </tr>\n",
       "    <tr>\n",
       "      <th>680</th>\n",
       "      <td>5</td>\n",
       "      <td>10</td>\n",
       "      <td>10</td>\n",
       "      <td>3</td>\n",
       "      <td>7</td>\n",
       "      <td>3</td>\n",
       "      <td>8</td>\n",
       "      <td>10</td>\n",
       "      <td>2</td>\n",
       "      <td>4</td>\n",
       "    </tr>\n",
       "    <tr>\n",
       "      <th>681</th>\n",
       "      <td>4</td>\n",
       "      <td>8</td>\n",
       "      <td>6</td>\n",
       "      <td>4</td>\n",
       "      <td>3</td>\n",
       "      <td>4</td>\n",
       "      <td>10</td>\n",
       "      <td>6</td>\n",
       "      <td>1</td>\n",
       "      <td>4</td>\n",
       "    </tr>\n",
       "    <tr>\n",
       "      <th>682</th>\n",
       "      <td>4</td>\n",
       "      <td>8</td>\n",
       "      <td>8</td>\n",
       "      <td>5</td>\n",
       "      <td>4</td>\n",
       "      <td>5</td>\n",
       "      <td>10</td>\n",
       "      <td>4</td>\n",
       "      <td>1</td>\n",
       "      <td>4</td>\n",
       "    </tr>\n",
       "  </tbody>\n",
       "</table>\n",
       "<p>683 rows × 10 columns</p>\n",
       "</div>"
      ],
      "text/plain": [
       "     Clump Thickness  Uniformity of Cell Size  Uniformity of Cell Shape  \\\n",
       "0                  5                        1                         1   \n",
       "1                  5                        4                         4   \n",
       "2                  3                        1                         1   \n",
       "3                  6                        8                         8   \n",
       "4                  4                        1                         1   \n",
       "..               ...                      ...                       ...   \n",
       "678                3                        1                         1   \n",
       "679                2                        1                         1   \n",
       "680                5                       10                        10   \n",
       "681                4                        8                         6   \n",
       "682                4                        8                         8   \n",
       "\n",
       "     Marginal Adhesion  Single Epithelial Cell Size  Bare Nuclei  \\\n",
       "0                    1                            2            1   \n",
       "1                    5                            7           10   \n",
       "2                    1                            2            2   \n",
       "3                    1                            3            4   \n",
       "4                    3                            2            1   \n",
       "..                 ...                          ...          ...   \n",
       "678                  1                            3            2   \n",
       "679                  1                            2            1   \n",
       "680                  3                            7            3   \n",
       "681                  4                            3            4   \n",
       "682                  5                            4            5   \n",
       "\n",
       "     Bland Chromatin  Normal Nucleoli  Mitoses  Class  \n",
       "0                  3                1        1      2  \n",
       "1                  3                2        1      2  \n",
       "2                  3                1        1      2  \n",
       "3                  3                7        1      2  \n",
       "4                  3                1        1      2  \n",
       "..               ...              ...      ...    ...  \n",
       "678                1                1        1      2  \n",
       "679                1                1        1      2  \n",
       "680                8               10        2      4  \n",
       "681               10                6        1      4  \n",
       "682               10                4        1      4  \n",
       "\n",
       "[683 rows x 10 columns]"
      ]
     },
     "execution_count": 16,
     "metadata": {},
     "output_type": "execute_result"
    }
   ],
   "source": [
    "data = pd.read_csv('breast_cancer.csv')\n",
    "data"
   ]
  },
  {
   "cell_type": "code",
   "execution_count": 17,
   "metadata": {},
   "outputs": [
    {
     "data": {
      "text/plain": [
       "array([0, 1], dtype=int64)"
      ]
     },
     "execution_count": 17,
     "metadata": {},
     "output_type": "execute_result"
    }
   ],
   "source": [
    "data['Class'] = data['Class'] // 4\n",
    "data['Class'].unique()"
   ]
  },
  {
   "cell_type": "code",
   "execution_count": 18,
   "metadata": {},
   "outputs": [
    {
     "name": "stdout",
     "output_type": "stream",
     "text": [
      "x =\n",
      "      Clump Thickness  Uniformity of Cell Size  Uniformity of Cell Shape  \\\n",
      "0                  5                        1                         1   \n",
      "1                  5                        4                         4   \n",
      "2                  3                        1                         1   \n",
      "3                  6                        8                         8   \n",
      "4                  4                        1                         1   \n",
      "..               ...                      ...                       ...   \n",
      "678                3                        1                         1   \n",
      "679                2                        1                         1   \n",
      "680                5                       10                        10   \n",
      "681                4                        8                         6   \n",
      "682                4                        8                         8   \n",
      "\n",
      "     Marginal Adhesion  Single Epithelial Cell Size  Bare Nuclei  \\\n",
      "0                    1                            2            1   \n",
      "1                    5                            7           10   \n",
      "2                    1                            2            2   \n",
      "3                    1                            3            4   \n",
      "4                    3                            2            1   \n",
      "..                 ...                          ...          ...   \n",
      "678                  1                            3            2   \n",
      "679                  1                            2            1   \n",
      "680                  3                            7            3   \n",
      "681                  4                            3            4   \n",
      "682                  5                            4            5   \n",
      "\n",
      "     Bland Chromatin  Normal Nucleoli  Mitoses  \n",
      "0                  3                1        1  \n",
      "1                  3                2        1  \n",
      "2                  3                1        1  \n",
      "3                  3                7        1  \n",
      "4                  3                1        1  \n",
      "..               ...              ...      ...  \n",
      "678                1                1        1  \n",
      "679                1                1        1  \n",
      "680                8               10        2  \n",
      "681               10                6        1  \n",
      "682               10                4        1  \n",
      "\n",
      "[683 rows x 9 columns]\n",
      "\n",
      "y = 0      0\n",
      "1      0\n",
      "2      0\n",
      "3      0\n",
      "4      0\n",
      "      ..\n",
      "678    0\n",
      "679    0\n",
      "680    1\n",
      "681    1\n",
      "682    1\n",
      "Name: Class, Length: 683, dtype: int64\n"
     ]
    }
   ],
   "source": [
    "x = data.drop(columns=['Class'])\n",
    "y = data['Class']\n",
    "print('x =\\n', x)\n",
    "print('\\ny =', y)"
   ]
  },
  {
   "cell_type": "code",
   "execution_count": 19,
   "metadata": {},
   "outputs": [
    {
     "data": {
      "text/plain": [
       "(     Clump Thickness  Uniformity of Cell Size  Uniformity of Cell Shape  \\\n",
       " 426                5                        2                         2   \n",
       " 213                6                        1                         3   \n",
       " 578                5                        1                         2   \n",
       " 186                5                        1                         1   \n",
       " 636                5                        1                         1   \n",
       " ..               ...                      ...                       ...   \n",
       " 351                2                        1                         1   \n",
       " 453                4                        1                         1   \n",
       " 560                5                        1                         2   \n",
       " 309                5                        4                         6   \n",
       " 151                5                        5                         5   \n",
       " \n",
       "      Marginal Adhesion  Single Epithelial Cell Size  Bare Nuclei  \\\n",
       " 426                  4                            2            4   \n",
       " 213                  1                            2            1   \n",
       " 578                  1                            2            1   \n",
       " 186                  1                            2            1   \n",
       " 636                  1                            2            1   \n",
       " ..                 ...                          ...          ...   \n",
       " 351                  1                            2            1   \n",
       " 453                  1                            2            1   \n",
       " 560                  1                            2            1   \n",
       " 309                 10                            2           10   \n",
       " 151                  6                            3           10   \n",
       " \n",
       "      Bland Chromatin  Normal Nucleoli  Mitoses  \n",
       " 426                1                1        1  \n",
       " 213                3                1        1  \n",
       " 578                1                1        1  \n",
       " 186                2                1        1  \n",
       " 636                2                2        1  \n",
       " ..               ...              ...      ...  \n",
       " 351                2                1        1  \n",
       " 453                1                1        1  \n",
       " 560                3                1        1  \n",
       " 309                4                1        1  \n",
       " 151                3                1        1  \n",
       " \n",
       " [546 rows x 9 columns],\n",
       " 426    0\n",
       " 213    0\n",
       " 578    0\n",
       " 186    0\n",
       " 636    0\n",
       "       ..\n",
       " 351    0\n",
       " 453    0\n",
       " 560    0\n",
       " 309    1\n",
       " 151    1\n",
       " Name: Class, Length: 546, dtype: int64)"
      ]
     },
     "execution_count": 19,
     "metadata": {},
     "output_type": "execute_result"
    }
   ],
   "source": [
    "x_train, x_test, y_train, y_test = train_test_split(x, y, test_size=0.2)\n",
    "x_train, y_train"
   ]
  },
  {
   "cell_type": "code",
   "execution_count": 20,
   "metadata": {},
   "outputs": [],
   "source": [
    "model = DeepNeuralNetwork(Layer(9),\n",
    "                          Layer(18),\n",
    "                          Layer(1, activation_func='sigmoid', train_bias=False))"
   ]
  },
  {
   "cell_type": "markdown",
   "metadata": {},
   "source": [
    "### Weights and bias init"
   ]
  },
  {
   "cell_type": "code",
   "execution_count": 21,
   "metadata": {},
   "outputs": [
    {
     "name": "stdout",
     "output_type": "stream",
     "text": [
      "weight init layers 0= :\n",
      " [[0.03850611 0.16833579 0.26147523 0.17116274 0.08276913 0.09074198\n",
      "  0.19476569 0.15604308 0.21399123 0.18773366 0.17392643 0.16380042\n",
      "  0.05664675 0.22689684 0.15777429 0.06198884 0.26696031 0.00801413]\n",
      " [0.12668397 0.19298902 0.15420456 0.21327437 0.24614504 0.23565387\n",
      "  0.16205516 0.02745735 0.2009539  0.21923909 0.00792125 0.10438696\n",
      "  0.09820167 0.09001921 0.01205923 0.26477808 0.07290515 0.21802659]\n",
      " [0.19643787 0.13679813 0.25808049 0.24099646 0.15647753 0.09859708\n",
      "  0.07927805 0.25837889 0.2548802  0.23565643 0.23677502 0.17569356\n",
      "  0.25921905 0.26086135 0.20295093 0.01430997 0.22151582 0.22039897]\n",
      " [0.06632812 0.04478653 0.23173923 0.19415225 0.22200154 0.04368559\n",
      "  0.03490455 0.16664434 0.19274129 0.08713557 0.23110248 0.20479902\n",
      "  0.18833746 0.08229376 0.03413032 0.01934502 0.23008272 0.22988597]\n",
      " [0.11242983 0.21051483 0.21086974 0.24522104 0.0647822  0.03823313\n",
      "  0.14060891 0.03133676 0.25873232 0.12642081 0.18219295 0.19098226\n",
      "  0.09967657 0.16790926 0.25139651 0.25229102 0.12958337 0.16853493]\n",
      " [0.06032614 0.19873628 0.15697518 0.17493502 0.02886191 0.00352128\n",
      "  0.07094371 0.26474025 0.26821887 0.24536872 0.15649356 0.09250845\n",
      "  0.15877029 0.04552823 0.16765269 0.01967214 0.0130531  0.2533499 ]\n",
      " [0.17606028 0.03216046 0.02915783 0.11349244 0.25562021 0.27107671\n",
      "  0.12041576 0.2225577  0.14190995 0.08344996 0.2517474  0.09245667\n",
      "  0.23487975 0.06779582 0.2429779  0.08885138 0.05050447 0.01718744]\n",
      " [0.06205591 0.23541254 0.17772308 0.19070893 0.0393265  0.07729841\n",
      "  0.10226682 0.11430033 0.11660289 0.01053137 0.24124601 0.11171895\n",
      "  0.06203087 0.07784938 0.13543784 0.05312386 0.16234108 0.05056326]\n",
      " [0.21140147 0.16920125 0.13784405 0.25703005 0.1306033  0.07653571\n",
      "  0.09950938 0.12611314 0.01978901 0.07766287 0.01933832 0.03273305\n",
      "  0.17479579 0.16691686 0.0512977  0.11664662 0.044776   0.05067659]]\n",
      "\n",
      "shape of weights = (9, 18)\n",
      "\n",
      "bias init layers 0= \n",
      " [[0.]\n",
      " [0.]\n",
      " [0.]\n",
      " [0.]\n",
      " [0.]\n",
      " [0.]\n",
      " [0.]\n",
      " [0.]\n",
      " [0.]\n",
      " [0.]\n",
      " [0.]\n",
      " [0.]\n",
      " [0.]\n",
      " [0.]\n",
      " [0.]\n",
      " [0.]\n",
      " [0.]\n",
      " [0.]]\n",
      "\n",
      "shape of bias = (18, 1)\n",
      "weight init layers 1= :\n",
      " [[0.17596294]\n",
      " [0.12275706]\n",
      " [0.2288093 ]\n",
      " [0.13109935]\n",
      " [0.23675705]\n",
      " [0.30177441]\n",
      " [0.10260236]\n",
      " [0.32375463]\n",
      " [0.23006754]\n",
      " [0.06571182]\n",
      " [0.16909957]\n",
      " [0.2286373 ]\n",
      " [0.21783671]\n",
      " [0.1135843 ]\n",
      " [0.27162551]\n",
      " [0.14231118]\n",
      " [0.20609129]\n",
      " [0.26245541]]\n",
      "\n",
      "shape of weights = (18, 1)\n",
      "\n",
      "bias init layers 1= \n",
      " [[0.]]\n",
      "\n",
      "shape of bias = (1, 1)\n"
     ]
    }
   ],
   "source": [
    "for i in range(model.layers_len-1):\n",
    "    print(f'weight init layers {i}= :\\n', model.weights[i])\n",
    "    print(f'\\nshape of weights = {model.weights[i].shape}')\n",
    "    print(f'\\nbias init layers {i}= \\n', model.layers[i].biases)\n",
    "    print(f'\\nshape of bias = {model.layers[i].biases.shape}')\n",
    "    "
   ]
  },
  {
   "cell_type": "markdown",
   "metadata": {},
   "source": [
    "### Training"
   ]
  },
  {
   "cell_type": "code",
   "execution_count": 22,
   "metadata": {},
   "outputs": [],
   "source": [
    "def fit(x_train, y_train, lr = 0.01, batch_size = 32, epochs = 1000):\n",
    "    N, d = x_train.shape\n",
    "    for it in range(epochs):\n",
    "        rand_id = np.random.choice(N, size=batch_size, replace=False)\n",
    "        for i in rand_id:\n",
    "            xi = np.array([x_train.iloc[i, :]]).T\n",
    "            yi = y_train.iloc[i]\n",
    "            activation_cache, linear_cache = model.forward(xi)\n",
    "            loss = model.calculate_loss(yi, activation_cache[-1])\n",
    "            error = model.error(loss, linear_cache)\n",
    "            # model.backpropagation(error, activation_cache)\n",
    "            model.backpropagation(linear_cache, activation_cache, yi)\n",
    "            model.update(lr = lr)"
   ]
  },
  {
   "cell_type": "code",
   "execution_count": 23,
   "metadata": {},
   "outputs": [],
   "source": [
    "fit(x_train, y_train, lr=0.001, batch_size=32, epochs=1000)"
   ]
  },
  {
   "cell_type": "code",
   "execution_count": 24,
   "metadata": {},
   "outputs": [
    {
     "name": "stdout",
     "output_type": "stream",
     "text": [
      "[0, 0, 0, 0, 0, 0, 0, 0, 0, 0, 0, 1, 0, 0, 0, 0, 0, 0, 0, 0, 0, 1, 1, 0, 1, 1, 1, 1, 1, 0, 0, 0, 1, 0, 0, 0, 0, 0, 1, 0, 0, 0, 0, 1, 1, 0, 0, 0, 1, 0, 0, 0, 0, 0, 0, 0, 1, 0, 0, 0, 0, 0, 0, 0, 0, 0, 0, 0, 0, 0, 0, 0, 0, 0, 0, 0, 1, 1, 0, 0, 0, 1, 1, 0, 0, 0, 1, 0, 0, 1, 0, 0, 1, 0, 1, 0, 0, 0, 0, 0, 1, 1, 1, 0, 0, 0, 0, 1, 1, 0, 0, 1, 0, 1, 0, 1, 0, 0, 0, 1, 0, 1, 0, 1, 0, 0, 0, 0, 0, 0, 1, 0, 0, 0, 0, 0, 1, 0, 0, 0, 0, 0, 0, 0, 0, 0, 1, 0, 1, 1, 0, 1, 0, 0, 1, 1, 0, 0, 0, 1, 1, 1, 0, 0, 1, 1, 1, 0, 1, 1, 0, 1, 0, 0, 0, 0, 0, 1, 1, 0, 0, 0, 0, 0, 0, 0, 1, 0, 0, 1, 0, 0, 1, 0, 1, 1, 0, 1, 1, 0, 0, 0, 1, 1, 0, 0, 0, 1, 0, 0, 1, 1, 0, 1, 1, 0, 1, 0, 1, 1, 0, 0, 0, 1, 0, 1, 0, 0, 0, 1, 0, 0, 0, 0, 1, 0, 1, 0, 0, 0, 0, 1, 1, 1, 0, 0, 1, 1, 0, 0, 0, 0, 0, 0, 0, 1, 1, 1, 0, 0, 0, 0, 1, 0, 0, 0, 0, 0, 0, 0, 1, 1, 0, 0, 1, 1, 1, 1, 1, 1, 1, 1, 0, 0, 0, 1, 1, 1, 0, 0, 0, 0, 1, 0, 0, 0, 1, 0, 1, 1, 0, 0, 0, 1, 0, 1, 0, 0, 0, 0, 1, 1, 0, 1, 0, 0, 1, 0, 0, 0, 1, 0, 0, 0, 0, 1, 0, 0, 0, 0, 0, 0, 1, 0, 0, 0, 1, 1, 0, 1, 0, 0, 0, 0, 1, 0, 0, 0, 0, 0, 0, 1, 1, 0, 0, 1, 1, 1, 0, 1, 0, 0, 0, 1, 1, 1, 0, 1, 1, 0, 1, 1, 1, 1, 0, 1, 0, 1, 0, 1, 1, 1, 0, 0, 0, 0, 0, 1, 0, 0, 0, 1, 0, 1, 0, 0, 0, 1, 0, 0, 1, 0, 0, 0, 0, 1, 0, 1, 0, 0, 0, 0, 1, 0, 1, 0, 0, 1, 1, 0, 1, 0, 1, 1, 1, 0, 1, 0, 1, 1, 0, 1, 0, 0, 1, 0, 0, 0, 1, 0, 0, 0, 0, 0, 0, 0, 1, 0, 0, 0, 1, 0, 0, 0, 0, 1, 0, 0, 0, 1, 0, 0, 0, 0, 0, 0, 0, 0, 0, 0, 0, 0, 0, 0, 0, 0, 1, 0, 0, 0, 1, 0, 1, 0, 0, 0, 1, 0, 0, 1, 0, 1, 0, 0, 0, 0, 1, 0, 0, 0, 0, 1, 0, 1, 1, 0, 0, 0, 1, 0, 1, 0, 0, 1, 0, 0, 0, 1, 0, 0, 1, 0, 0, 0, 0, 0, 1, 1, 0, 0, 0, 1, 0, 1, 1, 0, 0, 0, 1, 1, 0, 0, 0, 0, 1, 1]\n",
      "number of 1 : 182\n",
      "number of 0 : 364\n"
     ]
    }
   ],
   "source": [
    "y_pred = model.predict(x_train)\n",
    "print(y_pred)\n",
    "count_0 = 0\n",
    "count_1 = 0\n",
    "for i in y_pred:\n",
    "    if i == 0:\n",
    "        count_0 += 1\n",
    "    else:\n",
    "        count_1 += 1\n",
    "print('number of 1 :', count_1)\n",
    "print('number of 0 :', count_0)\n"
   ]
  },
  {
   "cell_type": "markdown",
   "metadata": {},
   "source": [
    "### Accuracy"
   ]
  },
  {
   "cell_type": "code",
   "execution_count": 25,
   "metadata": {},
   "outputs": [
    {
     "name": "stdout",
     "output_type": "stream",
     "text": [
      "accuracy train: 0.967032967032967\n"
     ]
    }
   ],
   "source": [
    "acc = model.accuracy(y_train, y_pred)\n",
    "print(\"accuracy train:\", acc)"
   ]
  },
  {
   "cell_type": "code",
   "execution_count": 26,
   "metadata": {},
   "outputs": [
    {
     "name": "stdout",
     "output_type": "stream",
     "text": [
      "accuracy test: 0.9635036496350365\n"
     ]
    }
   ],
   "source": [
    "y_pred_test = model.predict(x_test)\n",
    "acc = model.accuracy(y_test, y_pred_test)\n",
    "print(\"accuracy test:\", acc)"
   ]
  },
  {
   "cell_type": "markdown",
   "metadata": {},
   "source": [
    "### Loss"
   ]
  },
  {
   "cell_type": "code",
   "execution_count": 27,
   "metadata": {},
   "outputs": [
    {
     "name": "stdout",
     "output_type": "stream",
     "text": [
      "loss train : 1.1386483023727907\n"
     ]
    }
   ],
   "source": [
    "loss_train = model.calculate_loss(y_train, y_pred)\n",
    "print(\"loss train :\", loss_train)"
   ]
  },
  {
   "cell_type": "code",
   "execution_count": 28,
   "metadata": {},
   "outputs": [
    {
     "name": "stdout",
     "output_type": "stream",
     "text": [
      "loss test : 1.2605509574409777\n"
     ]
    }
   ],
   "source": [
    "loss_test = model.calculate_loss(y_test, y_pred_test)\n",
    "print(\"loss test :\", loss_test)"
   ]
  }
 ],
 "metadata": {
  "kernelspec": {
   "display_name": "Python 3",
   "language": "python",
   "name": "python3"
  },
  "language_info": {
   "codemirror_mode": {
    "name": "ipython",
    "version": 3
   },
   "file_extension": ".py",
   "mimetype": "text/x-python",
   "name": "python",
   "nbconvert_exporter": "python",
   "pygments_lexer": "ipython3",
   "version": "3.12.5"
  }
 },
 "nbformat": 4,
 "nbformat_minor": 2
}
